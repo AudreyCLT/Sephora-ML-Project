{
 "cells": [
  {
   "cell_type": "markdown",
   "metadata": {},
   "source": [
    "In this data preparation part, the goal is to clean up the data to ensure the algorithms can run more smoothly.  To do that, we will \n",
    "1. Handle Basic Transformation\n",
    "2. Handle Duplication\n",
    "2. Convert Data Types\n",
    "3. Handle Incorrect Values\n",
    "4. Handle Missing Values"
   ]
  },
  {
   "cell_type": "markdown",
   "metadata": {},
   "source": [
    "### 0. Load Relevant Libraries and Dataset"
   ]
  },
  {
   "cell_type": "code",
   "execution_count": 464,
   "metadata": {},
   "outputs": [],
   "source": [
    "# load relevant libraries\n",
    "import pandas as pd\n",
    "import numpy as np\n",
    "\n",
    "# load sklearn for baseline model\n",
    "from sklearn.model_selection import train_test_split\n",
    "from sklearn.metrics import r2_score\n",
    "from sklearn.ensemble import RandomForestRegressor\n"
   ]
  },
  {
   "cell_type": "code",
   "execution_count": 465,
   "metadata": {},
   "outputs": [],
   "source": [
    "# load the dataset\n",
    "\n",
    "df=pd.read_csv('Sephora_Table.csv')"
   ]
  },
  {
   "cell_type": "code",
   "execution_count": 466,
   "metadata": {},
   "outputs": [
    {
     "data": {
      "text/plain": [
       "(2836, 28)"
      ]
     },
     "execution_count": 466,
     "metadata": {},
     "output_type": "execute_result"
    }
   ],
   "source": [
    "df.shape"
   ]
  },
  {
   "cell_type": "markdown",
   "metadata": {},
   "source": [
    "### 1. Basic Transformation"
   ]
  },
  {
   "cell_type": "code",
   "execution_count": 467,
   "metadata": {},
   "outputs": [],
   "source": [
    "# Get ratio of stars to number of reviews\n",
    "\n",
    "stars=['five_star', 'four_star', 'three_star', 'two_star', 'one_star']\n",
    "\n",
    "for star in stars:\n",
    "    df[star]=df[star]/df['number_of_reviews']"
   ]
  },
  {
   "cell_type": "markdown",
   "metadata": {},
   "source": [
    "We notice that the number of stars by themselves doesn't really matter, as we may have 10 five star reviews but 100 one star reviews.  So we try to divide number of stars by total number of reviews."
   ]
  },
  {
   "cell_type": "markdown",
   "metadata": {},
   "source": [
    "### 2. Handle Duplication"
   ]
  },
  {
   "cell_type": "code",
   "execution_count": 468,
   "metadata": {},
   "outputs": [
    {
     "data": {
      "text/plain": [
       "125"
      ]
     },
     "execution_count": 468,
     "metadata": {},
     "output_type": "execute_result"
    }
   ],
   "source": [
    "# Find out how many rows are duplicated\n",
    "\n",
    "df.duplicated().sum()"
   ]
  },
  {
   "cell_type": "code",
   "execution_count": 469,
   "metadata": {},
   "outputs": [
    {
     "data": {
      "text/html": [
       "<div>\n",
       "<style scoped>\n",
       "    .dataframe tbody tr th:only-of-type {\n",
       "        vertical-align: middle;\n",
       "    }\n",
       "\n",
       "    .dataframe tbody tr th {\n",
       "        vertical-align: top;\n",
       "    }\n",
       "\n",
       "    .dataframe thead th {\n",
       "        text-align: right;\n",
       "    }\n",
       "</style>\n",
       "<table border=\"1\" class=\"dataframe\">\n",
       "  <thead>\n",
       "    <tr style=\"text-align: right;\">\n",
       "      <th></th>\n",
       "      <th>product_links</th>\n",
       "      <th>brand_name</th>\n",
       "      <th>product_name</th>\n",
       "      <th>item_id</th>\n",
       "      <th>product_type_1</th>\n",
       "      <th>product_type_2</th>\n",
       "      <th>number_of_reviews</th>\n",
       "      <th>number_of_loves</th>\n",
       "      <th>price</th>\n",
       "      <th>skin_type_normal</th>\n",
       "      <th>...</th>\n",
       "      <th>skin_concerns_dullness_uneven</th>\n",
       "      <th>skin_concerns_dryness</th>\n",
       "      <th>skin_concerns_oiliness</th>\n",
       "      <th>skin_concerns_puffiness</th>\n",
       "      <th>skin_concerns_redness_irritation</th>\n",
       "      <th>five_star</th>\n",
       "      <th>four_star</th>\n",
       "      <th>three_star</th>\n",
       "      <th>two_star</th>\n",
       "      <th>one_star</th>\n",
       "    </tr>\n",
       "  </thead>\n",
       "  <tbody>\n",
       "    <tr>\n",
       "      <th>819</th>\n",
       "      <td>https://www.sephora.com/ca/en/product/facial-t...</td>\n",
       "      <td>SK-II</td>\n",
       "      <td>Facial Treatment Essence (Pitera Essence)</td>\n",
       "      <td>1850346.0</td>\n",
       "      <td>Moisturizers</td>\n",
       "      <td>Mists &amp; Essences</td>\n",
       "      <td>985.0</td>\n",
       "      <td>86094.0</td>\n",
       "      <td>241.0</td>\n",
       "      <td>1.0</td>\n",
       "      <td>...</td>\n",
       "      <td>1.0</td>\n",
       "      <td>1.0</td>\n",
       "      <td>0.0</td>\n",
       "      <td>0.0</td>\n",
       "      <td>1.0</td>\n",
       "      <td>0.556345</td>\n",
       "      <td>0.151269</td>\n",
       "      <td>0.090355</td>\n",
       "      <td>0.077157</td>\n",
       "      <td>0.124873</td>\n",
       "    </tr>\n",
       "    <tr>\n",
       "      <th>880</th>\n",
       "      <td>https://www.sephora.com/ca/en/product/rose-flo...</td>\n",
       "      <td>FRESH</td>\n",
       "      <td>Rose Floral Toner</td>\n",
       "      <td>661157.0</td>\n",
       "      <td>Cleansers</td>\n",
       "      <td>Toners</td>\n",
       "      <td>897.0</td>\n",
       "      <td>70748.0</td>\n",
       "      <td>53.0</td>\n",
       "      <td>1.0</td>\n",
       "      <td>...</td>\n",
       "      <td>1.0</td>\n",
       "      <td>1.0</td>\n",
       "      <td>0.0</td>\n",
       "      <td>0.0</td>\n",
       "      <td>1.0</td>\n",
       "      <td>0.545151</td>\n",
       "      <td>0.210702</td>\n",
       "      <td>0.108138</td>\n",
       "      <td>0.068004</td>\n",
       "      <td>0.068004</td>\n",
       "    </tr>\n",
       "    <tr>\n",
       "      <th>889</th>\n",
       "      <td>https://www.sephora.com/ca/en/product/make-up-...</td>\n",
       "      <td>CAUDALIE</td>\n",
       "      <td>Make-Up Removing Cleansing Oil</td>\n",
       "      <td>2062503.0</td>\n",
       "      <td>Cleansers</td>\n",
       "      <td>Face Wash &amp; Cleansers</td>\n",
       "      <td>277.0</td>\n",
       "      <td>23960.0</td>\n",
       "      <td>34.0</td>\n",
       "      <td>1.0</td>\n",
       "      <td>...</td>\n",
       "      <td>1.0</td>\n",
       "      <td>1.0</td>\n",
       "      <td>0.0</td>\n",
       "      <td>0.0</td>\n",
       "      <td>1.0</td>\n",
       "      <td>0.664260</td>\n",
       "      <td>0.148014</td>\n",
       "      <td>0.090253</td>\n",
       "      <td>0.057762</td>\n",
       "      <td>0.039711</td>\n",
       "    </tr>\n",
       "    <tr>\n",
       "      <th>892</th>\n",
       "      <td>https://www.sephora.com/ca/en/product/squalane...</td>\n",
       "      <td>BIOSSANCE</td>\n",
       "      <td>Squalane + Antioxidant Cleansing Oil</td>\n",
       "      <td>6.0</td>\n",
       "      <td>Cleansers</td>\n",
       "      <td>Face Wash &amp; Cleansers</td>\n",
       "      <td>397.0</td>\n",
       "      <td>27038.0</td>\n",
       "      <td>40.0</td>\n",
       "      <td>1.0</td>\n",
       "      <td>...</td>\n",
       "      <td>1.0</td>\n",
       "      <td>1.0</td>\n",
       "      <td>0.0</td>\n",
       "      <td>0.0</td>\n",
       "      <td>1.0</td>\n",
       "      <td>0.622166</td>\n",
       "      <td>0.148615</td>\n",
       "      <td>0.075567</td>\n",
       "      <td>0.075567</td>\n",
       "      <td>0.078086</td>\n",
       "    </tr>\n",
       "    <tr>\n",
       "      <th>902</th>\n",
       "      <td>https://www.sephora.com/ca/en/product/micro-es...</td>\n",
       "      <td>ESTÉE LAUDER</td>\n",
       "      <td>Micro Essence Skin Activating Treatment Lotion</td>\n",
       "      <td>1641323.0</td>\n",
       "      <td>Moisturizers</td>\n",
       "      <td>Mists &amp; Essences</td>\n",
       "      <td>68.0</td>\n",
       "      <td>19666.0</td>\n",
       "      <td>124.0</td>\n",
       "      <td>1.0</td>\n",
       "      <td>...</td>\n",
       "      <td>1.0</td>\n",
       "      <td>1.0</td>\n",
       "      <td>0.0</td>\n",
       "      <td>0.0</td>\n",
       "      <td>1.0</td>\n",
       "      <td>0.779412</td>\n",
       "      <td>0.132353</td>\n",
       "      <td>0.000000</td>\n",
       "      <td>0.029412</td>\n",
       "      <td>0.058824</td>\n",
       "    </tr>\n",
       "    <tr>\n",
       "      <th>...</th>\n",
       "      <td>...</td>\n",
       "      <td>...</td>\n",
       "      <td>...</td>\n",
       "      <td>...</td>\n",
       "      <td>...</td>\n",
       "      <td>...</td>\n",
       "      <td>...</td>\n",
       "      <td>...</td>\n",
       "      <td>...</td>\n",
       "      <td>...</td>\n",
       "      <td>...</td>\n",
       "      <td>...</td>\n",
       "      <td>...</td>\n",
       "      <td>...</td>\n",
       "      <td>...</td>\n",
       "      <td>...</td>\n",
       "      <td>...</td>\n",
       "      <td>...</td>\n",
       "      <td>...</td>\n",
       "      <td>...</td>\n",
       "      <td>...</td>\n",
       "    </tr>\n",
       "    <tr>\n",
       "      <th>2715</th>\n",
       "      <td>https://www.sephora.com/ca/en/product/future-s...</td>\n",
       "      <td>SHISEIDO</td>\n",
       "      <td>Future Solution LX Eye and Lip Contour Regener...</td>\n",
       "      <td>0.0</td>\n",
       "      <td>Eye Care</td>\n",
       "      <td>Eye Creams &amp; Treatments</td>\n",
       "      <td>28.0</td>\n",
       "      <td>4184.0</td>\n",
       "      <td>202.0</td>\n",
       "      <td>1.0</td>\n",
       "      <td>...</td>\n",
       "      <td>0.0</td>\n",
       "      <td>0.0</td>\n",
       "      <td>0.0</td>\n",
       "      <td>1.0</td>\n",
       "      <td>1.0</td>\n",
       "      <td>0.500000</td>\n",
       "      <td>0.214286</td>\n",
       "      <td>0.107143</td>\n",
       "      <td>0.071429</td>\n",
       "      <td>0.107143</td>\n",
       "    </tr>\n",
       "    <tr>\n",
       "      <th>2734</th>\n",
       "      <td>https://www.sephora.com/ca/en/product/lip-mask...</td>\n",
       "      <td>SEPHORA COLLECTION</td>\n",
       "      <td>Hydrating Lip Mask</td>\n",
       "      <td>1.0</td>\n",
       "      <td>Lip Treatments</td>\n",
       "      <td>Lip Balms &amp; Treatments</td>\n",
       "      <td>232.0</td>\n",
       "      <td>19232.0</td>\n",
       "      <td>4.0</td>\n",
       "      <td>0.0</td>\n",
       "      <td>...</td>\n",
       "      <td>0.0</td>\n",
       "      <td>1.0</td>\n",
       "      <td>0.0</td>\n",
       "      <td>0.0</td>\n",
       "      <td>0.0</td>\n",
       "      <td>0.288793</td>\n",
       "      <td>0.185345</td>\n",
       "      <td>0.168103</td>\n",
       "      <td>0.137931</td>\n",
       "      <td>0.219828</td>\n",
       "    </tr>\n",
       "    <tr>\n",
       "      <th>2735</th>\n",
       "      <td>https://www.sephora.com/ca/en/product/orchidee...</td>\n",
       "      <td>GUERLAIN</td>\n",
       "      <td>Orchidee Imperiale Anti-Aging Eye &amp; Lip Contou...</td>\n",
       "      <td>0.0</td>\n",
       "      <td>Eye Care</td>\n",
       "      <td>Eye Creams &amp; Treatments</td>\n",
       "      <td>8.0</td>\n",
       "      <td>1351.0</td>\n",
       "      <td>258.0</td>\n",
       "      <td>1.0</td>\n",
       "      <td>...</td>\n",
       "      <td>1.0</td>\n",
       "      <td>1.0</td>\n",
       "      <td>0.0</td>\n",
       "      <td>0.0</td>\n",
       "      <td>1.0</td>\n",
       "      <td>0.500000</td>\n",
       "      <td>0.250000</td>\n",
       "      <td>0.000000</td>\n",
       "      <td>0.000000</td>\n",
       "      <td>0.250000</td>\n",
       "    </tr>\n",
       "    <tr>\n",
       "      <th>2767</th>\n",
       "      <td>https://www.sephora.com/ca/en/product/glopro-l...</td>\n",
       "      <td>BEAUTYBIO</td>\n",
       "      <td>GloPRO® LIP MicroTip™ Attachment Head</td>\n",
       "      <td>2163061.0</td>\n",
       "      <td>High Tech Tools</td>\n",
       "      <td>Anti-Aging</td>\n",
       "      <td>6.0</td>\n",
       "      <td>3680.0</td>\n",
       "      <td>46.0</td>\n",
       "      <td>1.0</td>\n",
       "      <td>...</td>\n",
       "      <td>1.0</td>\n",
       "      <td>0.0</td>\n",
       "      <td>0.0</td>\n",
       "      <td>0.0</td>\n",
       "      <td>1.0</td>\n",
       "      <td>0.666667</td>\n",
       "      <td>0.000000</td>\n",
       "      <td>0.000000</td>\n",
       "      <td>0.000000</td>\n",
       "      <td>0.333333</td>\n",
       "    </tr>\n",
       "    <tr>\n",
       "      <th>2785</th>\n",
       "      <td>https://www.sephora.com/ca/en/product/kiss-lip...</td>\n",
       "      <td>PMD</td>\n",
       "      <td>Kiss Lip Plumping System</td>\n",
       "      <td>2123545.0</td>\n",
       "      <td>Lip Treatments</td>\n",
       "      <td>Lip Balms &amp; Treatments</td>\n",
       "      <td>62.0</td>\n",
       "      <td>9206.0</td>\n",
       "      <td>119.0</td>\n",
       "      <td>1.0</td>\n",
       "      <td>...</td>\n",
       "      <td>0.0</td>\n",
       "      <td>0.0</td>\n",
       "      <td>0.0</td>\n",
       "      <td>0.0</td>\n",
       "      <td>1.0</td>\n",
       "      <td>0.435484</td>\n",
       "      <td>0.112903</td>\n",
       "      <td>0.080645</td>\n",
       "      <td>0.032258</td>\n",
       "      <td>0.338710</td>\n",
       "    </tr>\n",
       "  </tbody>\n",
       "</table>\n",
       "<p>125 rows × 28 columns</p>\n",
       "</div>"
      ],
      "text/plain": [
       "                                          product_links          brand_name  \\\n",
       "819   https://www.sephora.com/ca/en/product/facial-t...               SK-II   \n",
       "880   https://www.sephora.com/ca/en/product/rose-flo...               FRESH   \n",
       "889   https://www.sephora.com/ca/en/product/make-up-...            CAUDALIE   \n",
       "892   https://www.sephora.com/ca/en/product/squalane...           BIOSSANCE   \n",
       "902   https://www.sephora.com/ca/en/product/micro-es...        ESTÉE LAUDER   \n",
       "...                                                 ...                 ...   \n",
       "2715  https://www.sephora.com/ca/en/product/future-s...            SHISEIDO   \n",
       "2734  https://www.sephora.com/ca/en/product/lip-mask...  SEPHORA COLLECTION   \n",
       "2735  https://www.sephora.com/ca/en/product/orchidee...            GUERLAIN   \n",
       "2767  https://www.sephora.com/ca/en/product/glopro-l...           BEAUTYBIO   \n",
       "2785  https://www.sephora.com/ca/en/product/kiss-lip...                 PMD   \n",
       "\n",
       "                                           product_name    item_id  \\\n",
       "819           Facial Treatment Essence (Pitera Essence)  1850346.0   \n",
       "880                                   Rose Floral Toner   661157.0   \n",
       "889                      Make-Up Removing Cleansing Oil  2062503.0   \n",
       "892                Squalane + Antioxidant Cleansing Oil        6.0   \n",
       "902      Micro Essence Skin Activating Treatment Lotion  1641323.0   \n",
       "...                                                 ...        ...   \n",
       "2715  Future Solution LX Eye and Lip Contour Regener...        0.0   \n",
       "2734                                 Hydrating Lip Mask        1.0   \n",
       "2735  Orchidee Imperiale Anti-Aging Eye & Lip Contou...        0.0   \n",
       "2767              GloPRO® LIP MicroTip™ Attachment Head  2163061.0   \n",
       "2785                           Kiss Lip Plumping System  2123545.0   \n",
       "\n",
       "       product_type_1           product_type_2  number_of_reviews  \\\n",
       "819      Moisturizers         Mists & Essences              985.0   \n",
       "880         Cleansers                   Toners              897.0   \n",
       "889         Cleansers    Face Wash & Cleansers              277.0   \n",
       "892         Cleansers    Face Wash & Cleansers              397.0   \n",
       "902      Moisturizers         Mists & Essences               68.0   \n",
       "...               ...                      ...                ...   \n",
       "2715         Eye Care  Eye Creams & Treatments               28.0   \n",
       "2734   Lip Treatments   Lip Balms & Treatments              232.0   \n",
       "2735         Eye Care  Eye Creams & Treatments                8.0   \n",
       "2767  High Tech Tools               Anti-Aging                6.0   \n",
       "2785   Lip Treatments   Lip Balms & Treatments               62.0   \n",
       "\n",
       "      number_of_loves  price  skin_type_normal  ...  \\\n",
       "819           86094.0  241.0               1.0  ...   \n",
       "880           70748.0   53.0               1.0  ...   \n",
       "889           23960.0   34.0               1.0  ...   \n",
       "892           27038.0   40.0               1.0  ...   \n",
       "902           19666.0  124.0               1.0  ...   \n",
       "...               ...    ...               ...  ...   \n",
       "2715           4184.0  202.0               1.0  ...   \n",
       "2734          19232.0    4.0               0.0  ...   \n",
       "2735           1351.0  258.0               1.0  ...   \n",
       "2767           3680.0   46.0               1.0  ...   \n",
       "2785           9206.0  119.0               1.0  ...   \n",
       "\n",
       "      skin_concerns_dullness_uneven  skin_concerns_dryness  \\\n",
       "819                             1.0                    1.0   \n",
       "880                             1.0                    1.0   \n",
       "889                             1.0                    1.0   \n",
       "892                             1.0                    1.0   \n",
       "902                             1.0                    1.0   \n",
       "...                             ...                    ...   \n",
       "2715                            0.0                    0.0   \n",
       "2734                            0.0                    1.0   \n",
       "2735                            1.0                    1.0   \n",
       "2767                            1.0                    0.0   \n",
       "2785                            0.0                    0.0   \n",
       "\n",
       "      skin_concerns_oiliness  skin_concerns_puffiness  \\\n",
       "819                      0.0                      0.0   \n",
       "880                      0.0                      0.0   \n",
       "889                      0.0                      0.0   \n",
       "892                      0.0                      0.0   \n",
       "902                      0.0                      0.0   \n",
       "...                      ...                      ...   \n",
       "2715                     0.0                      1.0   \n",
       "2734                     0.0                      0.0   \n",
       "2735                     0.0                      0.0   \n",
       "2767                     0.0                      0.0   \n",
       "2785                     0.0                      0.0   \n",
       "\n",
       "      skin_concerns_redness_irritation  five_star  four_star  three_star  \\\n",
       "819                                1.0   0.556345   0.151269    0.090355   \n",
       "880                                1.0   0.545151   0.210702    0.108138   \n",
       "889                                1.0   0.664260   0.148014    0.090253   \n",
       "892                                1.0   0.622166   0.148615    0.075567   \n",
       "902                                1.0   0.779412   0.132353    0.000000   \n",
       "...                                ...        ...        ...         ...   \n",
       "2715                               1.0   0.500000   0.214286    0.107143   \n",
       "2734                               0.0   0.288793   0.185345    0.168103   \n",
       "2735                               1.0   0.500000   0.250000    0.000000   \n",
       "2767                               1.0   0.666667   0.000000    0.000000   \n",
       "2785                               1.0   0.435484   0.112903    0.080645   \n",
       "\n",
       "      two_star  one_star  \n",
       "819   0.077157  0.124873  \n",
       "880   0.068004  0.068004  \n",
       "889   0.057762  0.039711  \n",
       "892   0.075567  0.078086  \n",
       "902   0.029412  0.058824  \n",
       "...        ...       ...  \n",
       "2715  0.071429  0.107143  \n",
       "2734  0.137931  0.219828  \n",
       "2735  0.000000  0.250000  \n",
       "2767  0.000000  0.333333  \n",
       "2785  0.032258  0.338710  \n",
       "\n",
       "[125 rows x 28 columns]"
      ]
     },
     "execution_count": 469,
     "metadata": {},
     "output_type": "execute_result"
    }
   ],
   "source": [
    "df[df.duplicated()]"
   ]
  },
  {
   "cell_type": "code",
   "execution_count": 470,
   "metadata": {},
   "outputs": [],
   "source": [
    "# remove duplicated rows\n",
    "\n",
    "df=df.drop_duplicates()"
   ]
  },
  {
   "cell_type": "code",
   "execution_count": 471,
   "metadata": {},
   "outputs": [
    {
     "data": {
      "text/plain": [
       "0"
      ]
     },
     "execution_count": 471,
     "metadata": {},
     "output_type": "execute_result"
    }
   ],
   "source": [
    "df.duplicated().sum()"
   ]
  },
  {
   "cell_type": "markdown",
   "metadata": {},
   "source": [
    "### 3. Handle Incorrect Values"
   ]
  },
  {
   "cell_type": "markdown",
   "metadata": {},
   "source": [
    "By looking at the dataframe, we get that item_id is sometimes sourced incorrectly.  Luckily, as this information is not very relevant to our modelling, we will remove this column.\n",
    "\n",
    "As product links and product name are not relevant either, we will also remove them"
   ]
  },
  {
   "cell_type": "code",
   "execution_count": 472,
   "metadata": {},
   "outputs": [],
   "source": [
    "# drop item_id column\n",
    "\n",
    "to_drop=['item_id', 'product_links', 'product_name']\n",
    "\n",
    "df=df.drop(columns=to_drop)"
   ]
  },
  {
   "cell_type": "code",
   "execution_count": 473,
   "metadata": {},
   "outputs": [
    {
     "data": {
      "text/html": [
       "<div>\n",
       "<style scoped>\n",
       "    .dataframe tbody tr th:only-of-type {\n",
       "        vertical-align: middle;\n",
       "    }\n",
       "\n",
       "    .dataframe tbody tr th {\n",
       "        vertical-align: top;\n",
       "    }\n",
       "\n",
       "    .dataframe thead th {\n",
       "        text-align: right;\n",
       "    }\n",
       "</style>\n",
       "<table border=\"1\" class=\"dataframe\">\n",
       "  <thead>\n",
       "    <tr style=\"text-align: right;\">\n",
       "      <th></th>\n",
       "      <th>brand_name</th>\n",
       "      <th>product_type_1</th>\n",
       "      <th>product_type_2</th>\n",
       "      <th>number_of_reviews</th>\n",
       "      <th>number_of_loves</th>\n",
       "      <th>price</th>\n",
       "      <th>skin_type_normal</th>\n",
       "      <th>skin_type_dry</th>\n",
       "      <th>skin_type_combination</th>\n",
       "      <th>skin_type_oily</th>\n",
       "      <th>...</th>\n",
       "      <th>skin_concerns_dullness_uneven</th>\n",
       "      <th>skin_concerns_dryness</th>\n",
       "      <th>skin_concerns_oiliness</th>\n",
       "      <th>skin_concerns_puffiness</th>\n",
       "      <th>skin_concerns_redness_irritation</th>\n",
       "      <th>five_star</th>\n",
       "      <th>four_star</th>\n",
       "      <th>three_star</th>\n",
       "      <th>two_star</th>\n",
       "      <th>one_star</th>\n",
       "    </tr>\n",
       "  </thead>\n",
       "  <tbody>\n",
       "    <tr>\n",
       "      <th>0</th>\n",
       "      <td>DRUNK ELEPHANT</td>\n",
       "      <td>Moisturizers</td>\n",
       "      <td>Moisturizers</td>\n",
       "      <td>4504.0</td>\n",
       "      <td>263031.0</td>\n",
       "      <td>89.0</td>\n",
       "      <td>1.0</td>\n",
       "      <td>1.0</td>\n",
       "      <td>1.0</td>\n",
       "      <td>1.0</td>\n",
       "      <td>...</td>\n",
       "      <td>1.0</td>\n",
       "      <td>1.0</td>\n",
       "      <td>0.0</td>\n",
       "      <td>0.0</td>\n",
       "      <td>1.0</td>\n",
       "      <td>0.579929</td>\n",
       "      <td>0.123668</td>\n",
       "      <td>0.092140</td>\n",
       "      <td>0.092362</td>\n",
       "      <td>0.111901</td>\n",
       "    </tr>\n",
       "    <tr>\n",
       "      <th>1</th>\n",
       "      <td>TATCHA</td>\n",
       "      <td>Moisturizers</td>\n",
       "      <td>Moisturizers</td>\n",
       "      <td>3100.0</td>\n",
       "      <td>237318.0</td>\n",
       "      <td>89.0</td>\n",
       "      <td>1.0</td>\n",
       "      <td>1.0</td>\n",
       "      <td>1.0</td>\n",
       "      <td>1.0</td>\n",
       "      <td>...</td>\n",
       "      <td>1.0</td>\n",
       "      <td>1.0</td>\n",
       "      <td>0.0</td>\n",
       "      <td>0.0</td>\n",
       "      <td>1.0</td>\n",
       "      <td>0.596129</td>\n",
       "      <td>0.133871</td>\n",
       "      <td>0.101290</td>\n",
       "      <td>0.076129</td>\n",
       "      <td>0.092581</td>\n",
       "    </tr>\n",
       "    <tr>\n",
       "      <th>2</th>\n",
       "      <td>TATCHA</td>\n",
       "      <td>Moisturizers</td>\n",
       "      <td>Moisturizers</td>\n",
       "      <td>1475.0</td>\n",
       "      <td>119147.0</td>\n",
       "      <td>89.0</td>\n",
       "      <td>1.0</td>\n",
       "      <td>1.0</td>\n",
       "      <td>0.0</td>\n",
       "      <td>0.0</td>\n",
       "      <td>...</td>\n",
       "      <td>1.0</td>\n",
       "      <td>1.0</td>\n",
       "      <td>0.0</td>\n",
       "      <td>0.0</td>\n",
       "      <td>1.0</td>\n",
       "      <td>0.665763</td>\n",
       "      <td>0.107119</td>\n",
       "      <td>0.078644</td>\n",
       "      <td>0.079322</td>\n",
       "      <td>0.069153</td>\n",
       "    </tr>\n",
       "    <tr>\n",
       "      <th>3</th>\n",
       "      <td>LA MER</td>\n",
       "      <td>Moisturizers</td>\n",
       "      <td>Moisturizers</td>\n",
       "      <td>663.0</td>\n",
       "      <td>75093.0</td>\n",
       "      <td>235.0</td>\n",
       "      <td>0.0</td>\n",
       "      <td>1.0</td>\n",
       "      <td>0.0</td>\n",
       "      <td>0.0</td>\n",
       "      <td>...</td>\n",
       "      <td>0.0</td>\n",
       "      <td>1.0</td>\n",
       "      <td>0.0</td>\n",
       "      <td>0.0</td>\n",
       "      <td>0.0</td>\n",
       "      <td>0.588235</td>\n",
       "      <td>0.117647</td>\n",
       "      <td>0.081448</td>\n",
       "      <td>0.081448</td>\n",
       "      <td>0.131222</td>\n",
       "    </tr>\n",
       "    <tr>\n",
       "      <th>4</th>\n",
       "      <td>SK-II</td>\n",
       "      <td>Moisturizers</td>\n",
       "      <td>Mists &amp; Essences</td>\n",
       "      <td>985.0</td>\n",
       "      <td>86094.0</td>\n",
       "      <td>241.0</td>\n",
       "      <td>1.0</td>\n",
       "      <td>1.0</td>\n",
       "      <td>1.0</td>\n",
       "      <td>1.0</td>\n",
       "      <td>...</td>\n",
       "      <td>1.0</td>\n",
       "      <td>1.0</td>\n",
       "      <td>0.0</td>\n",
       "      <td>0.0</td>\n",
       "      <td>1.0</td>\n",
       "      <td>0.556345</td>\n",
       "      <td>0.151269</td>\n",
       "      <td>0.090355</td>\n",
       "      <td>0.077157</td>\n",
       "      <td>0.124873</td>\n",
       "    </tr>\n",
       "  </tbody>\n",
       "</table>\n",
       "<p>5 rows × 25 columns</p>\n",
       "</div>"
      ],
      "text/plain": [
       "       brand_name product_type_1    product_type_2  number_of_reviews  \\\n",
       "0  DRUNK ELEPHANT   Moisturizers      Moisturizers             4504.0   \n",
       "1          TATCHA   Moisturizers      Moisturizers             3100.0   \n",
       "2          TATCHA   Moisturizers      Moisturizers             1475.0   \n",
       "3          LA MER   Moisturizers      Moisturizers              663.0   \n",
       "4           SK-II   Moisturizers  Mists & Essences              985.0   \n",
       "\n",
       "   number_of_loves  price  skin_type_normal  skin_type_dry  \\\n",
       "0         263031.0   89.0               1.0            1.0   \n",
       "1         237318.0   89.0               1.0            1.0   \n",
       "2         119147.0   89.0               1.0            1.0   \n",
       "3          75093.0  235.0               0.0            1.0   \n",
       "4          86094.0  241.0               1.0            1.0   \n",
       "\n",
       "   skin_type_combination  skin_type_oily  ...  skin_concerns_dullness_uneven  \\\n",
       "0                    1.0             1.0  ...                            1.0   \n",
       "1                    1.0             1.0  ...                            1.0   \n",
       "2                    0.0             0.0  ...                            1.0   \n",
       "3                    0.0             0.0  ...                            0.0   \n",
       "4                    1.0             1.0  ...                            1.0   \n",
       "\n",
       "   skin_concerns_dryness  skin_concerns_oiliness  skin_concerns_puffiness  \\\n",
       "0                    1.0                     0.0                      0.0   \n",
       "1                    1.0                     0.0                      0.0   \n",
       "2                    1.0                     0.0                      0.0   \n",
       "3                    1.0                     0.0                      0.0   \n",
       "4                    1.0                     0.0                      0.0   \n",
       "\n",
       "   skin_concerns_redness_irritation  five_star  four_star  three_star  \\\n",
       "0                               1.0   0.579929   0.123668    0.092140   \n",
       "1                               1.0   0.596129   0.133871    0.101290   \n",
       "2                               1.0   0.665763   0.107119    0.078644   \n",
       "3                               0.0   0.588235   0.117647    0.081448   \n",
       "4                               1.0   0.556345   0.151269    0.090355   \n",
       "\n",
       "   two_star  one_star  \n",
       "0  0.092362  0.111901  \n",
       "1  0.076129  0.092581  \n",
       "2  0.079322  0.069153  \n",
       "3  0.081448  0.131222  \n",
       "4  0.077157  0.124873  \n",
       "\n",
       "[5 rows x 25 columns]"
      ]
     },
     "execution_count": 473,
     "metadata": {},
     "output_type": "execute_result"
    }
   ],
   "source": [
    "df.head()"
   ]
  },
  {
   "cell_type": "markdown",
   "metadata": {},
   "source": [
    "### 4. Handle Missing Values"
   ]
  },
  {
   "cell_type": "code",
   "execution_count": 474,
   "metadata": {},
   "outputs": [
    {
     "data": {
      "text/plain": [
       "(2711, 25)"
      ]
     },
     "execution_count": 474,
     "metadata": {},
     "output_type": "execute_result"
    }
   ],
   "source": [
    "df.shape"
   ]
  },
  {
   "cell_type": "code",
   "execution_count": 475,
   "metadata": {},
   "outputs": [
    {
     "data": {
      "text/plain": [
       "brand_name                           0.002582\n",
       "product_type_2                       0.002582\n",
       "price                                0.002582\n",
       "skin_concerns_redness_irritation     0.002951\n",
       "skin_concerns_puffiness              0.002951\n",
       "skin_concerns_oiliness               0.002951\n",
       "skin_concerns_dryness                0.002951\n",
       "skin_concerns_dullness_uneven        0.002951\n",
       "skin_concerns_firmness_elasticity    0.002951\n",
       "skin_concerns_dark_spots             0.002951\n",
       "skin_concerns_fine_lines_wrinkles    0.002951\n",
       "skin_concerns_pores                  0.002951\n",
       "skin_type_oily                       0.002951\n",
       "skin_type_combination                0.002951\n",
       "skin_type_dry                        0.002951\n",
       "skin_type_normal                     0.002951\n",
       "number_of_loves                      0.002951\n",
       "skin_type_sensitive                  0.002951\n",
       "product_type_1                       0.022870\n",
       "two_star                             0.036518\n",
       "number_of_reviews                    0.036518\n",
       "five_star                            0.036518\n",
       "four_star                            0.036518\n",
       "three_star                           0.036518\n",
       "one_star                             0.036518\n",
       "dtype: float64"
      ]
     },
     "execution_count": 475,
     "metadata": {},
     "output_type": "execute_result"
    }
   ],
   "source": [
    "# Finding out portion of null value in each column\n",
    "\n",
    "df.isnull().mean().sort_values(ascending=True)\n"
   ]
  },
  {
   "cell_type": "markdown",
   "metadata": {},
   "source": [
    "There are three cases of missing reviews:\n",
    "1. Price, number of loves, product name, and brand name:  missing if the link is no longer working\n",
    "2. Skin type and concerns:  missing due to sourcing issues\n",
    "3. Review numbers:  missing due to no reviews\n",
    "4. Product type 1:  missing due to unknown reason\n",
    "\n",
    "For 1. and 2., as this means that data is missing completely at random and the missing portion is small (0.8%), we will choose to remove all the rows with such missing values in this case.  This method is called the complete-case analysis (CCA).\n",
    "\n",
    "For 3., as this means that there are no reviews, we will put the numbers as 0.\n",
    "\n",
    "For 4., we will use a new variable (='Missing') to indicate the value is missing, as we do not know if there is any importance of missingness, and we'd like to capture it if there is one."
   ]
  },
  {
   "cell_type": "code",
   "execution_count": 476,
   "metadata": {},
   "outputs": [],
   "source": [
    "# Imputing missing values in case 1 and 2 with CCA\n",
    "df = df.dropna(subset=['price','skin_concerns_redness_irritation'])"
   ]
  },
  {
   "cell_type": "code",
   "execution_count": 477,
   "metadata": {},
   "outputs": [
    {
     "data": {
      "text/plain": [
       "brand_name                           0.000000\n",
       "skin_concerns_redness_irritation     0.000000\n",
       "skin_concerns_puffiness              0.000000\n",
       "skin_concerns_oiliness               0.000000\n",
       "skin_concerns_dryness                0.000000\n",
       "skin_concerns_dullness_uneven        0.000000\n",
       "skin_concerns_firmness_elasticity    0.000000\n",
       "skin_concerns_dark_spots             0.000000\n",
       "skin_concerns_fine_lines_wrinkles    0.000000\n",
       "skin_type_sensitive                  0.000000\n",
       "skin_concerns_pores                  0.000000\n",
       "skin_type_combination                0.000000\n",
       "skin_type_dry                        0.000000\n",
       "skin_type_normal                     0.000000\n",
       "price                                0.000000\n",
       "number_of_loves                      0.000000\n",
       "product_type_2                       0.000000\n",
       "skin_type_oily                       0.000000\n",
       "product_type_1                       0.020348\n",
       "two_star                             0.033666\n",
       "number_of_reviews                    0.033666\n",
       "five_star                            0.033666\n",
       "four_star                            0.033666\n",
       "three_star                           0.033666\n",
       "one_star                             0.033666\n",
       "dtype: float64"
      ]
     },
     "execution_count": 477,
     "metadata": {},
     "output_type": "execute_result"
    }
   ],
   "source": [
    "df.isnull().mean().sort_values(ascending=True)\n"
   ]
  },
  {
   "cell_type": "code",
   "execution_count": 478,
   "metadata": {},
   "outputs": [],
   "source": [
    "# Imputing missing values in case 3 with 0\n",
    "\n",
    "number_of_reviews_cols=['five_star', 'four_star',\n",
    "       'three_star', 'two_star', 'one_star', 'number_of_reviews']\n",
    "\n",
    "for reviews_number in number_of_reviews_cols:\n",
    "    df[reviews_number].fillna(0, inplace=True)"
   ]
  },
  {
   "cell_type": "code",
   "execution_count": 479,
   "metadata": {},
   "outputs": [
    {
     "data": {
      "text/plain": [
       "brand_name                           0.000000\n",
       "three_star                           0.000000\n",
       "four_star                            0.000000\n",
       "five_star                            0.000000\n",
       "skin_concerns_redness_irritation     0.000000\n",
       "skin_concerns_puffiness              0.000000\n",
       "skin_concerns_oiliness               0.000000\n",
       "skin_concerns_dryness                0.000000\n",
       "skin_concerns_dullness_uneven        0.000000\n",
       "skin_concerns_firmness_elasticity    0.000000\n",
       "skin_concerns_dark_spots             0.000000\n",
       "two_star                             0.000000\n",
       "skin_concerns_pores                  0.000000\n",
       "skin_type_sensitive                  0.000000\n",
       "skin_type_oily                       0.000000\n",
       "skin_type_combination                0.000000\n",
       "skin_type_dry                        0.000000\n",
       "skin_type_normal                     0.000000\n",
       "price                                0.000000\n",
       "number_of_loves                      0.000000\n",
       "number_of_reviews                    0.000000\n",
       "product_type_2                       0.000000\n",
       "skin_concerns_fine_lines_wrinkles    0.000000\n",
       "one_star                             0.000000\n",
       "product_type_1                       0.020348\n",
       "dtype: float64"
      ]
     },
     "execution_count": 479,
     "metadata": {},
     "output_type": "execute_result"
    }
   ],
   "source": [
    "df.isnull().mean().sort_values(ascending=True)\n"
   ]
  },
  {
   "cell_type": "code",
   "execution_count": 480,
   "metadata": {},
   "outputs": [],
   "source": [
    "# Imputing missing values in case 4 with value = 'Missing'\n",
    "\n",
    "df['product_type_1'] = df['product_type_1'].astype('object')\n",
    "\n",
    "df['product_type_1'].fillna('Missing', inplace=True)\n"
   ]
  },
  {
   "cell_type": "code",
   "execution_count": 481,
   "metadata": {},
   "outputs": [
    {
     "data": {
      "text/plain": [
       "brand_name                           0.0\n",
       "three_star                           0.0\n",
       "four_star                            0.0\n",
       "five_star                            0.0\n",
       "skin_concerns_redness_irritation     0.0\n",
       "skin_concerns_puffiness              0.0\n",
       "skin_concerns_oiliness               0.0\n",
       "skin_concerns_dryness                0.0\n",
       "skin_concerns_dullness_uneven        0.0\n",
       "skin_concerns_firmness_elasticity    0.0\n",
       "skin_concerns_dark_spots             0.0\n",
       "two_star                             0.0\n",
       "skin_concerns_pores                  0.0\n",
       "skin_type_sensitive                  0.0\n",
       "skin_type_oily                       0.0\n",
       "skin_type_combination                0.0\n",
       "skin_type_dry                        0.0\n",
       "skin_type_normal                     0.0\n",
       "price                                0.0\n",
       "number_of_loves                      0.0\n",
       "number_of_reviews                    0.0\n",
       "product_type_2                       0.0\n",
       "product_type_1                       0.0\n",
       "skin_concerns_fine_lines_wrinkles    0.0\n",
       "one_star                             0.0\n",
       "dtype: float64"
      ]
     },
     "execution_count": 481,
     "metadata": {},
     "output_type": "execute_result"
    }
   ],
   "source": [
    "df.isnull().mean().sort_values(ascending=True)\n"
   ]
  },
  {
   "cell_type": "markdown",
   "metadata": {},
   "source": [
    "### 5. Convert Data Types"
   ]
  },
  {
   "cell_type": "code",
   "execution_count": 482,
   "metadata": {},
   "outputs": [
    {
     "data": {
      "text/plain": [
       "brand_name                            object\n",
       "product_type_1                        object\n",
       "product_type_2                        object\n",
       "number_of_reviews                    float64\n",
       "number_of_loves                      float64\n",
       "price                                float64\n",
       "skin_type_normal                     float64\n",
       "skin_type_dry                        float64\n",
       "skin_type_combination                float64\n",
       "skin_type_oily                       float64\n",
       "skin_type_sensitive                  float64\n",
       "skin_concerns_fine_lines_wrinkles    float64\n",
       "skin_concerns_pores                  float64\n",
       "skin_concerns_dark_spots             float64\n",
       "skin_concerns_firmness_elasticity    float64\n",
       "skin_concerns_dullness_uneven        float64\n",
       "skin_concerns_dryness                float64\n",
       "skin_concerns_oiliness               float64\n",
       "skin_concerns_puffiness              float64\n",
       "skin_concerns_redness_irritation     float64\n",
       "five_star                            float64\n",
       "four_star                            float64\n",
       "three_star                           float64\n",
       "two_star                             float64\n",
       "one_star                             float64\n",
       "dtype: object"
      ]
     },
     "execution_count": 482,
     "metadata": {},
     "output_type": "execute_result"
    }
   ],
   "source": [
    "df.dtypes"
   ]
  },
  {
   "cell_type": "code",
   "execution_count": 483,
   "metadata": {},
   "outputs": [
    {
     "data": {
      "text/plain": [
       "Index(['brand_name', 'product_type_1', 'product_type_2', 'number_of_reviews',\n",
       "       'number_of_loves', 'price', 'skin_type_normal', 'skin_type_dry',\n",
       "       'skin_type_combination', 'skin_type_oily', 'skin_type_sensitive',\n",
       "       'skin_concerns_fine_lines_wrinkles', 'skin_concerns_pores',\n",
       "       'skin_concerns_dark_spots', 'skin_concerns_firmness_elasticity',\n",
       "       'skin_concerns_dullness_uneven', 'skin_concerns_dryness',\n",
       "       'skin_concerns_oiliness', 'skin_concerns_puffiness',\n",
       "       'skin_concerns_redness_irritation', 'five_star', 'four_star',\n",
       "       'three_star', 'two_star', 'one_star'],\n",
       "      dtype='object')"
      ]
     },
     "execution_count": 483,
     "metadata": {},
     "output_type": "execute_result"
    }
   ],
   "source": [
    "df.columns"
   ]
  },
  {
   "cell_type": "markdown",
   "metadata": {},
   "source": [
    "We know that \n",
    "1. number_of_reviews and number_of_loves are integers,\n",
    "2. skin types and skin concerns should be boolean values, \n",
    "3. product types should be categories\n",
    "\n",
    "let's update the above"
   ]
  },
  {
   "cell_type": "code",
   "execution_count": 484,
   "metadata": {},
   "outputs": [],
   "source": [
    "skin_type_cols=['skin_type_normal', 'skin_type_dry',\n",
    "       'skin_type_combination', 'skin_type_oily', 'skin_type_sensitive']\n",
    "skin_concern_cols=['skin_concerns_fine_lines_wrinkles', 'skin_concerns_pores',\n",
    "       'skin_concerns_dark_spots', 'skin_concerns_firmness_elasticity',\n",
    "       'skin_concerns_dullness_uneven', 'skin_concerns_dryness',\n",
    "       'skin_concerns_oiliness', 'skin_concerns_puffiness',\n",
    "       'skin_concerns_redness_irritation']\n",
    "\n",
    "for skin_type in skin_type_cols:\n",
    "    df[skin_type] = df[skin_type].astype('bool')\n",
    "    \n",
    "for skin_concern in skin_concern_cols:\n",
    "    df[skin_concern] = df[skin_concern].astype('bool')\n",
    "\n",
    "    "
   ]
  },
  {
   "cell_type": "code",
   "execution_count": 485,
   "metadata": {},
   "outputs": [],
   "source": [
    "product_type_cols=['product_type_1', 'product_type_2']\n",
    "for product_type in product_type_cols:\n",
    "    df[product_type] = df[product_type].astype('category')\n"
   ]
  },
  {
   "cell_type": "code",
   "execution_count": 486,
   "metadata": {},
   "outputs": [],
   "source": [
    "reviews_cols=['number_of_reviews']\n",
    "\n",
    "for review_type in reviews_cols:\n",
    "    df[review_type] = df[review_type].astype('int64')\n"
   ]
  },
  {
   "cell_type": "markdown",
   "metadata": {},
   "source": [
    "### 6. Categorical Encoding"
   ]
  },
  {
   "cell_type": "code",
   "execution_count": 487,
   "metadata": {},
   "outputs": [],
   "source": [
    "X_train, X_test, y_train, y_test = train_test_split(\n",
    "    df,  # predictors\n",
    "    df['number_of_loves'],  # target\n",
    "    test_size=0.3,\n",
    "    random_state=0)"
   ]
  },
  {
   "cell_type": "code",
   "execution_count": 488,
   "metadata": {},
   "outputs": [
    {
     "data": {
      "text/plain": [
       "['brand_name']"
      ]
     },
     "execution_count": 488,
     "metadata": {},
     "output_type": "execute_result"
    }
   ],
   "source": [
    "categorical_cols=[]\n",
    "for variables in df.columns:\n",
    "    if df[variables].dtype=='object':\n",
    "        categorical_cols.append(variables)\n",
    "        \n",
    "categorical_cols"
   ]
  },
  {
   "cell_type": "code",
   "execution_count": 489,
   "metadata": {},
   "outputs": [],
   "source": [
    "categorical_cols=['brand_name','product_type_1' ,'product_type_2' ]"
   ]
  },
  {
   "cell_type": "code",
   "execution_count": 490,
   "metadata": {},
   "outputs": [
    {
     "name": "stderr",
     "output_type": "stream",
     "text": [
      "/Users/audreytang/anaconda3/lib/python3.6/site-packages/ipykernel_launcher.py:7: SettingWithCopyWarning: \n",
      "A value is trying to be set on a copy of a slice from a DataFrame.\n",
      "Try using .loc[row_indexer,col_indexer] = value instead\n",
      "\n",
      "See the caveats in the documentation: https://pandas.pydata.org/pandas-docs/stable/user_guide/indexing.html#returning-a-view-versus-a-copy\n",
      "  import sys\n",
      "/Users/audreytang/anaconda3/lib/python3.6/site-packages/ipykernel_launcher.py:8: SettingWithCopyWarning: \n",
      "A value is trying to be set on a copy of a slice from a DataFrame.\n",
      "Try using .loc[row_indexer,col_indexer] = value instead\n",
      "\n",
      "See the caveats in the documentation: https://pandas.pydata.org/pandas-docs/stable/user_guide/indexing.html#returning-a-view-versus-a-copy\n",
      "  \n"
     ]
    }
   ],
   "source": [
    "for col in categorical_cols:\n",
    "# let's obtain the counts for each one of the labels\n",
    "# in the variable Neigbourhood\n",
    "\n",
    "    count_map = X_train[col].value_counts().to_dict()\n",
    "\n",
    "    X_train[col] = X_train[col].map(count_map)\n",
    "    X_test[col] = X_test[col].map(count_map)\n",
    "    "
   ]
  },
  {
   "cell_type": "code",
   "execution_count": 491,
   "metadata": {},
   "outputs": [
    {
     "name": "stderr",
     "output_type": "stream",
     "text": [
      "/Users/audreytang/anaconda3/lib/python3.6/site-packages/pandas/core/generic.py:6245: SettingWithCopyWarning: \n",
      "A value is trying to be set on a copy of a slice from a DataFrame\n",
      "\n",
      "See the caveats in the documentation: https://pandas.pydata.org/pandas-docs/stable/user_guide/indexing.html#returning-a-view-versus-a-copy\n",
      "  self._update_inplace(new_data)\n"
     ]
    }
   ],
   "source": [
    "# for variables in test set that didn't appear in the training set\n",
    "# the above step will give them the null value\n",
    "# use fillna again to ensure the values can be passed in the model\n",
    "\n",
    "X_test['brand_name'].fillna(0, inplace=True)\n",
    "X_test['product_type_2'].fillna(0, inplace=True)\n"
   ]
  },
  {
   "cell_type": "code",
   "execution_count": 492,
   "metadata": {},
   "outputs": [
    {
     "data": {
      "text/plain": [
       "brand_name                           0\n",
       "product_type_1                       0\n",
       "product_type_2                       0\n",
       "number_of_reviews                    0\n",
       "number_of_loves                      0\n",
       "price                                0\n",
       "skin_type_normal                     0\n",
       "skin_type_dry                        0\n",
       "skin_type_combination                0\n",
       "skin_type_oily                       0\n",
       "skin_type_sensitive                  0\n",
       "skin_concerns_fine_lines_wrinkles    0\n",
       "skin_concerns_pores                  0\n",
       "skin_concerns_dark_spots             0\n",
       "skin_concerns_firmness_elasticity    0\n",
       "skin_concerns_dullness_uneven        0\n",
       "skin_concerns_dryness                0\n",
       "skin_concerns_oiliness               0\n",
       "skin_concerns_puffiness              0\n",
       "skin_concerns_redness_irritation     0\n",
       "five_star                            0\n",
       "four_star                            0\n",
       "three_star                           0\n",
       "two_star                             0\n",
       "one_star                             0\n",
       "dtype: int64"
      ]
     },
     "execution_count": 492,
     "metadata": {},
     "output_type": "execute_result"
    }
   ],
   "source": [
    "X_test.isnull().sum()\n"
   ]
  },
  {
   "cell_type": "markdown",
   "metadata": {},
   "source": [
    "### 6. Baseline Model"
   ]
  },
  {
   "cell_type": "code",
   "execution_count": 493,
   "metadata": {},
   "outputs": [],
   "source": [
    "X_train=X_train.drop(columns='number_of_loves')\n",
    "X_test=X_test.drop(columns='number_of_loves')\n"
   ]
  },
  {
   "cell_type": "markdown",
   "metadata": {},
   "source": [
    "After our first round of data preprocessing, let's get a baseline model.  We choose random forests as it is a relatively simple model that gives high performance nonetheless without overfitting"
   ]
  },
  {
   "cell_type": "code",
   "execution_count": 494,
   "metadata": {},
   "outputs": [],
   "source": [
    "# create a function to build random forests and compare performance in train and test set\n",
    "\n",
    "\n",
    "def run_randomForests(X_train, X_test, y_train, y_test):\n",
    "    rf = RandomForestRegressor(n_estimators=200, random_state=39, max_depth=4)\n",
    "    rf.fit(X_train, y_train)\n",
    "    print('Train set')\n",
    "    pred = rf.predict(X_train)\n",
    "    print('Random Forests R2: {}'.format(r2_score(y_train, pred)))\n",
    "    print('Test set')\n",
    "    pred = rf.predict(X_test)\n",
    "    print('Random Forests R2: {}'.format(r2_score(y_test, pred)))\n"
   ]
  },
  {
   "cell_type": "code",
   "execution_count": 495,
   "metadata": {},
   "outputs": [
    {
     "name": "stdout",
     "output_type": "stream",
     "text": [
      "Train set\n",
      "Random Forests R2: 0.7747549489577906\n",
      "Test set\n",
      "Random Forests R2: 0.6815979112685899\n"
     ]
    }
   ],
   "source": [
    "run_randomForests(X_train,\n",
    "                  X_test,\n",
    "                  y_train, y_test)"
   ]
  },
  {
   "cell_type": "markdown",
   "metadata": {},
   "source": [
    "### 5. Save Dataframe with New Name"
   ]
  },
  {
   "cell_type": "code",
   "execution_count": 496,
   "metadata": {},
   "outputs": [],
   "source": [
    "df.to_csv('Sephora Dataset Preprocessed', index=False)"
   ]
  },
  {
   "cell_type": "code",
   "execution_count": null,
   "metadata": {},
   "outputs": [],
   "source": []
  }
 ],
 "metadata": {
  "kernelspec": {
   "display_name": "Python 3",
   "language": "python",
   "name": "python3"
  },
  "language_info": {
   "codemirror_mode": {
    "name": "ipython",
    "version": 3
   },
   "file_extension": ".py",
   "mimetype": "text/x-python",
   "name": "python",
   "nbconvert_exporter": "python",
   "pygments_lexer": "ipython3",
   "version": "3.6.4"
  }
 },
 "nbformat": 4,
 "nbformat_minor": 2
}
