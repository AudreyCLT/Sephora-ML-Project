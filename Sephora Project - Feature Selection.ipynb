{
 "cells": [
  {
   "cell_type": "markdown",
   "metadata": {},
   "source": [
    "We'll be using several methods of dimensionality reduction here.  While thre are other methods, note that some techniques, such as F-test and chi-square test, can only be used when the data is normally distributed"
   ]
  },
  {
   "cell_type": "code",
   "execution_count": 138,
   "metadata": {},
   "outputs": [],
   "source": [
    "import pandas as pd\n",
    "import numpy as np\n",
    "\n",
    "import matplotlib.pyplot as plt\n",
    "import seaborn as sns\n",
    "\n",
    "from sklearn.feature_selection import VarianceThreshold, SelectFromModel\n",
    "from sklearn.linear_model import LinearRegression, Lasso, LogisticRegression\n",
    "from sklearn.tree import DecisionTreeClassifier, DecisionTreeRegressor\n",
    "from sklearn.metrics import mean_squared_error\n",
    "from sklearn.ensemble import RandomForestRegressor\n",
    "from sklearn.preprocessing import StandardScaler\n",
    "\n",
    "%matplotlib inline"
   ]
  },
  {
   "cell_type": "code",
   "execution_count": 139,
   "metadata": {},
   "outputs": [],
   "source": [
    "X_train = pd.read_csv('X_train')\n",
    "X_test = pd.read_csv('X_test')\n",
    "y_train = pd.read_csv('y_train')\n",
    "y_test = pd.read_csv('y_test')\n"
   ]
  },
  {
   "cell_type": "code",
   "execution_count": 140,
   "metadata": {},
   "outputs": [
    {
     "data": {
      "text/plain": [
       "['brand_name',\n",
       " 'product_type_1',\n",
       " 'product_type_2',\n",
       " 'number_of_reviews',\n",
       " 'price',\n",
       " 'five_star',\n",
       " 'four_star',\n",
       " 'three_star',\n",
       " 'two_star',\n",
       " 'one_star']"
      ]
     },
     "execution_count": 140,
     "metadata": {},
     "output_type": "execute_result"
    }
   ],
   "source": [
    "numerical_cols=[]\n",
    "for variables in X_train.columns:\n",
    "    if X_train[variables].dtype=='int64' or X_train[variables].dtype=='float64':\n",
    "        numerical_cols.append(variables)\n",
    "        \n",
    "numerical_cols"
   ]
  },
  {
   "cell_type": "markdown",
   "metadata": {},
   "source": [
    "### 1. Remove constant, quasi-constant, duplicated and highly correlated features"
   ]
  },
  {
   "cell_type": "code",
   "execution_count": 141,
   "metadata": {},
   "outputs": [
    {
     "data": {
      "text/plain": [
       "((1892, 24), (811, 24))"
      ]
     },
     "execution_count": 141,
     "metadata": {},
     "output_type": "execute_result"
    }
   ],
   "source": [
    "# remove constant features\n",
    "constant_features = [\n",
    "    feat for feat in X_train.columns if X_train[feat].std() == 0\n",
    "]\n",
    "\n",
    "X_train.drop(labels=constant_features, axis=1, inplace=True)\n",
    "X_test.drop(labels=constant_features, axis=1, inplace=True)\n",
    "\n",
    "X_train.shape, X_test.shape"
   ]
  },
  {
   "cell_type": "code",
   "execution_count": 142,
   "metadata": {},
   "outputs": [
    {
     "data": {
      "text/plain": [
       "((1892, 24), (811, 24))"
      ]
     },
     "execution_count": 142,
     "metadata": {},
     "output_type": "execute_result"
    }
   ],
   "source": [
    "# remove quasi-constant features\n",
    "sel = VarianceThreshold(\n",
    "    threshold=0.01)  # 0.1 indicates 99% of observations approximately\n",
    "\n",
    "sel.fit(X_train)  # fit finds the features with low variance\n",
    "\n",
    "features_to_keep = X_train.columns[sel.get_support()]\n",
    "\n",
    "\n",
    "# we can then remove the features like this\n",
    "X_train = sel.transform(X_train)\n",
    "X_test = sel.transform(X_test)\n",
    "\n",
    "\n",
    "X_train= pd.DataFrame(X_train)\n",
    "X_train.columns = features_to_keep\n",
    "\n",
    "X_test= pd.DataFrame(X_test)\n",
    "X_test.columns = features_to_keep\n",
    "\n",
    "\n",
    "X_train.shape, X_test.shape"
   ]
  },
  {
   "cell_type": "code",
   "execution_count": 143,
   "metadata": {},
   "outputs": [
    {
     "name": "stdout",
     "output_type": "stream",
     "text": [
      "0\n",
      "10\n",
      "20\n"
     ]
    },
    {
     "data": {
      "text/plain": [
       "((1892, 23), (811, 23))"
      ]
     },
     "execution_count": 143,
     "metadata": {},
     "output_type": "execute_result"
    }
   ],
   "source": [
    "# check for duplicated features in the training set\n",
    "duplicated_feat = []\n",
    "for i in range(0, len(X_train.columns)):\n",
    "    if i % 10 == 0:  # this helps me understand how the loop is going\n",
    "        print(i)\n",
    "\n",
    "    col_1 = X_train.columns[i]\n",
    "\n",
    "    for col_2 in X_train.columns[i + 1:]:\n",
    "        if X_train[col_1].equals(X_train[col_2]):\n",
    "            duplicated_feat.append(col_2)\n",
    "            \n",
    "# remove duplicated features\n",
    "X_train.drop(labels=duplicated_feat, axis=1, inplace=True)\n",
    "X_test.drop(labels=duplicated_feat, axis=1, inplace=True)\n",
    "\n",
    "X_train.shape, X_test.shape\n",
    "            "
   ]
  },
  {
   "cell_type": "code",
   "execution_count": 144,
   "metadata": {},
   "outputs": [
    {
     "data": {
      "text/plain": [
       "((1892, 23), (811, 23))"
      ]
     },
     "execution_count": 144,
     "metadata": {},
     "output_type": "execute_result"
    }
   ],
   "source": [
    "# find and remove correlated features\n",
    "def correlation(dataset, threshold):\n",
    "    col_corr = set()  # Set of all the names of correlated columns\n",
    "    corr_matrix = dataset.corr()\n",
    "    for i in range(len(corr_matrix.columns)):\n",
    "        for j in range(i):\n",
    "            if abs(corr_matrix.iloc[i, j]) > threshold: # we are interested in absolute coeff value\n",
    "                colname = corr_matrix.columns[i]  # getting the name of column\n",
    "                col_corr.add(colname)\n",
    "    return col_corr\n",
    "\n",
    "corr_features = correlation(X_train, 0.8)\n",
    "\n",
    "X_train.drop(labels=corr_features, axis=1, inplace=True)\n",
    "X_test.drop(labels=corr_features, axis=1, inplace=True)\n",
    "\n",
    "X_train.shape, X_test.shape"
   ]
  },
  {
   "cell_type": "code",
   "execution_count": 145,
   "metadata": {},
   "outputs": [],
   "source": [
    "X_train=X_train.fillna(0)"
   ]
  },
  {
   "cell_type": "markdown",
   "metadata": {},
   "source": [
    "### 2. Remove features using MSE"
   ]
  },
  {
   "cell_type": "code",
   "execution_count": 146,
   "metadata": {},
   "outputs": [
    {
     "data": {
      "text/plain": [
       "<matplotlib.axes._subplots.AxesSubplot at 0x1a24fefd30>"
      ]
     },
     "execution_count": 146,
     "metadata": {},
     "output_type": "execute_result"
    },
    {
     "data": {
      "image/png": "[encoded data removed]",
      "text/plain": [
       "<Figure size 1440x576 with 1 Axes>"
      ]
     },
     "metadata": {},
     "output_type": "display_data"
    }
   ],
   "source": [
    "mse_values = []\n",
    "for feature in X_train.columns:\n",
    "    clf = DecisionTreeRegressor()\n",
    "    clf.fit(X_train[feature].fillna(0).to_frame(), y_train)\n",
    "    y_scored = clf.predict(X_test[feature].fillna(0).to_frame())\n",
    "    mse_values.append(mean_squared_error(y_test, y_scored))\n",
    "    \n",
    "mse_values = pd.Series(mse_values)\n",
    "mse_values.index = X_train.columns\n",
    "mse_values.sort_values(ascending=False)\n",
    "mse_values.sort_values(ascending=False).plot.bar(figsize=(20,8))"
   ]
  },
  {
   "cell_type": "code",
   "execution_count": 147,
   "metadata": {},
   "outputs": [],
   "source": [
    "# choosing the top 15 columns\n",
    "mse_columns=list(mse_values.nsmallest(15).to_dict().keys())\n"
   ]
  },
  {
   "cell_type": "code",
   "execution_count": 148,
   "metadata": {},
   "outputs": [],
   "source": [
    "X_train_mse = X_train[mse_columns]\n",
    "X_test_mse = X_test[mse_columns]\n"
   ]
  },
  {
   "cell_type": "code",
   "execution_count": 149,
   "metadata": {},
   "outputs": [
    {
     "data": {
      "text/html": [
       "<div>\n",
       "<style scoped>\n",
       "    .dataframe tbody tr th:only-of-type {\n",
       "        vertical-align: middle;\n",
       "    }\n",
       "\n",
       "    .dataframe tbody tr th {\n",
       "        vertical-align: top;\n",
       "    }\n",
       "\n",
       "    .dataframe thead th {\n",
       "        text-align: right;\n",
       "    }\n",
       "</style>\n",
       "<table border=\"1\" class=\"dataframe\">\n",
       "  <thead>\n",
       "    <tr style=\"text-align: right;\">\n",
       "      <th></th>\n",
       "      <th>number_of_reviews</th>\n",
       "      <th>brand_name</th>\n",
       "      <th>product_type_2</th>\n",
       "      <th>skin_type_oily</th>\n",
       "      <th>skin_type_normal</th>\n",
       "      <th>skin_concerns_dryness</th>\n",
       "      <th>product_type_1</th>\n",
       "      <th>skin_type_combination</th>\n",
       "      <th>skin_concerns_pores</th>\n",
       "      <th>skin_concerns_fine_lines_wrinkles</th>\n",
       "      <th>skin_concerns_oiliness</th>\n",
       "      <th>skin_concerns_firmness_elasticity</th>\n",
       "      <th>skin_concerns_dark_spots</th>\n",
       "      <th>skin_type_sensitive</th>\n",
       "      <th>skin_concerns_puffiness</th>\n",
       "    </tr>\n",
       "  </thead>\n",
       "  <tbody>\n",
       "    <tr>\n",
       "      <th>0</th>\n",
       "      <td>-0.410213</td>\n",
       "      <td>-0.012188</td>\n",
       "      <td>-0.684261</td>\n",
       "      <td>False</td>\n",
       "      <td>True</td>\n",
       "      <td>False</td>\n",
       "      <td>-0.552032</td>\n",
       "      <td>True</td>\n",
       "      <td>True</td>\n",
       "      <td>True</td>\n",
       "      <td>False</td>\n",
       "      <td>False</td>\n",
       "      <td>False</td>\n",
       "      <td>False</td>\n",
       "      <td>False</td>\n",
       "    </tr>\n",
       "    <tr>\n",
       "      <th>1</th>\n",
       "      <td>-0.423237</td>\n",
       "      <td>-0.927838</td>\n",
       "      <td>-0.832955</td>\n",
       "      <td>True</td>\n",
       "      <td>True</td>\n",
       "      <td>False</td>\n",
       "      <td>-0.897499</td>\n",
       "      <td>True</td>\n",
       "      <td>False</td>\n",
       "      <td>True</td>\n",
       "      <td>False</td>\n",
       "      <td>True</td>\n",
       "      <td>False</td>\n",
       "      <td>True</td>\n",
       "      <td>True</td>\n",
       "    </tr>\n",
       "    <tr>\n",
       "      <th>2</th>\n",
       "      <td>-0.337278</td>\n",
       "      <td>-0.578227</td>\n",
       "      <td>-0.986354</td>\n",
       "      <td>True</td>\n",
       "      <td>True</td>\n",
       "      <td>False</td>\n",
       "      <td>-1.262924</td>\n",
       "      <td>True</td>\n",
       "      <td>False</td>\n",
       "      <td>True</td>\n",
       "      <td>False</td>\n",
       "      <td>False</td>\n",
       "      <td>True</td>\n",
       "      <td>False</td>\n",
       "      <td>False</td>\n",
       "    </tr>\n",
       "    <tr>\n",
       "      <th>3</th>\n",
       "      <td>-0.373745</td>\n",
       "      <td>0.018981</td>\n",
       "      <td>-0.684261</td>\n",
       "      <td>True</td>\n",
       "      <td>False</td>\n",
       "      <td>False</td>\n",
       "      <td>-0.552032</td>\n",
       "      <td>True</td>\n",
       "      <td>False</td>\n",
       "      <td>False</td>\n",
       "      <td>False</td>\n",
       "      <td>False</td>\n",
       "      <td>False</td>\n",
       "      <td>False</td>\n",
       "      <td>False</td>\n",
       "    </tr>\n",
       "    <tr>\n",
       "      <th>4</th>\n",
       "      <td>-0.100241</td>\n",
       "      <td>2.509945</td>\n",
       "      <td>1.027722</td>\n",
       "      <td>True</td>\n",
       "      <td>False</td>\n",
       "      <td>False</td>\n",
       "      <td>0.668561</td>\n",
       "      <td>True</td>\n",
       "      <td>True</td>\n",
       "      <td>False</td>\n",
       "      <td>False</td>\n",
       "      <td>False</td>\n",
       "      <td>False</td>\n",
       "      <td>False</td>\n",
       "      <td>False</td>\n",
       "    </tr>\n",
       "  </tbody>\n",
       "</table>\n",
       "</div>"
      ],
      "text/plain": [
       "   number_of_reviews  brand_name  product_type_2  skin_type_oily  \\\n",
       "0          -0.410213   -0.012188       -0.684261           False   \n",
       "1          -0.423237   -0.927838       -0.832955            True   \n",
       "2          -0.337278   -0.578227       -0.986354            True   \n",
       "3          -0.373745    0.018981       -0.684261            True   \n",
       "4          -0.100241    2.509945        1.027722            True   \n",
       "\n",
       "   skin_type_normal  skin_concerns_dryness  product_type_1  \\\n",
       "0              True                  False       -0.552032   \n",
       "1              True                  False       -0.897499   \n",
       "2              True                  False       -1.262924   \n",
       "3             False                  False       -0.552032   \n",
       "4             False                  False        0.668561   \n",
       "\n",
       "   skin_type_combination  skin_concerns_pores  \\\n",
       "0                   True                 True   \n",
       "1                   True                False   \n",
       "2                   True                False   \n",
       "3                   True                False   \n",
       "4                   True                 True   \n",
       "\n",
       "   skin_concerns_fine_lines_wrinkles  skin_concerns_oiliness  \\\n",
       "0                               True                   False   \n",
       "1                               True                   False   \n",
       "2                               True                   False   \n",
       "3                              False                   False   \n",
       "4                              False                   False   \n",
       "\n",
       "   skin_concerns_firmness_elasticity  skin_concerns_dark_spots  \\\n",
       "0                              False                     False   \n",
       "1                               True                     False   \n",
       "2                              False                      True   \n",
       "3                              False                     False   \n",
       "4                              False                     False   \n",
       "\n",
       "   skin_type_sensitive  skin_concerns_puffiness  \n",
       "0                False                    False  \n",
       "1                 True                     True  \n",
       "2                False                    False  \n",
       "3                False                    False  \n",
       "4                False                    False  "
      ]
     },
     "execution_count": 149,
     "metadata": {},
     "output_type": "execute_result"
    }
   ],
   "source": [
    "X_train_mse.head()"
   ]
  },
  {
   "cell_type": "markdown",
   "metadata": {},
   "source": [
    "### 3. Remove features using Lasso"
   ]
  },
  {
   "cell_type": "code",
   "execution_count": 150,
   "metadata": {},
   "outputs": [
    {
     "data": {
      "text/plain": [
       "brand_name                           0.0\n",
       "three_star                           0.0\n",
       "four_star                            0.0\n",
       "five_star                            0.0\n",
       "skin_concerns_puffiness              0.0\n",
       "skin_concerns_oiliness               0.0\n",
       "skin_concerns_dryness                0.0\n",
       "skin_concerns_dullness_uneven        0.0\n",
       "skin_concerns_firmness_elasticity    0.0\n",
       "skin_concerns_dark_spots             0.0\n",
       "two_star                             0.0\n",
       "skin_concerns_pores                  0.0\n",
       "skin_type_sensitive                  0.0\n",
       "skin_type_oily                       0.0\n",
       "skin_type_combination                0.0\n",
       "skin_type_dry                        0.0\n",
       "skin_type_normal                     0.0\n",
       "price                                0.0\n",
       "number_of_reviews                    0.0\n",
       "product_type_2                       0.0\n",
       "product_type_1                       0.0\n",
       "skin_concerns_fine_lines_wrinkles    0.0\n",
       "one_star                             0.0\n",
       "dtype: float64"
      ]
     },
     "execution_count": 150,
     "metadata": {},
     "output_type": "execute_result"
    }
   ],
   "source": [
    "X_test.isnull().mean().sort_values(ascending=True)"
   ]
  },
  {
   "cell_type": "code",
   "execution_count": 151,
   "metadata": {},
   "outputs": [],
   "source": [
    "scaler = StandardScaler()\n",
    "scaler.fit(X_train.fillna(0))\n",
    "# fit a lasso and selet features, make sure to select l1\n",
    "sel_ = SelectFromModel(Lasso(alpha=100))\n",
    "sel_.fit(scaler.transform(X_train), y_train)\n",
    "\n",
    "# remove features with zero coefficient from dataset\n",
    "# and parse again as dataframe (output of sklearn is\n",
    "# numpy array)\n",
    "X_train_lasso = pd.DataFrame(sel_.transform(X_train))\n",
    "X_test_lasso = pd.DataFrame(sel_.transform(X_test))\n",
    "\n",
    "# add the columns name\n",
    "X_train_lasso.columns = X_train.columns[(sel_.get_support())]\n",
    "X_test_lasso.columns = X_train.columns[(sel_.get_support())]\n"
   ]
  },
  {
   "cell_type": "code",
   "execution_count": 152,
   "metadata": {},
   "outputs": [
    {
     "data": {
      "text/plain": [
       "((1892, 19), (811, 19))"
      ]
     },
     "execution_count": 152,
     "metadata": {},
     "output_type": "execute_result"
    }
   ],
   "source": [
    "X_train_lasso.shape, X_test_lasso.shape"
   ]
  },
  {
   "cell_type": "code",
   "execution_count": 153,
   "metadata": {},
   "outputs": [
    {
     "data": {
      "text/plain": [
       "Index(['brand_name', 'product_type_1', 'product_type_2', 'number_of_reviews',\n",
       "       'price', 'skin_type_combination', 'skin_type_oily',\n",
       "       'skin_type_sensitive', 'skin_concerns_pores',\n",
       "       'skin_concerns_dark_spots', 'skin_concerns_firmness_elasticity',\n",
       "       'skin_concerns_dullness_uneven', 'skin_concerns_dryness',\n",
       "       'skin_concerns_oiliness', 'skin_concerns_puffiness', 'five_star',\n",
       "       'four_star', 'three_star', 'one_star'],\n",
       "      dtype='object')"
      ]
     },
     "execution_count": 153,
     "metadata": {},
     "output_type": "execute_result"
    }
   ],
   "source": [
    "X_train_lasso.columns"
   ]
  },
  {
   "cell_type": "markdown",
   "metadata": {},
   "source": [
    "### 4. Select features by random forests derived importance"
   ]
  },
  {
   "cell_type": "code",
   "execution_count": 154,
   "metadata": {},
   "outputs": [
    {
     "name": "stderr",
     "output_type": "stream",
     "text": [
      "/Users/audreytang/anaconda3/lib/python3.6/site-packages/sklearn/feature_selection/_from_model.py:222: DataConversionWarning: A column-vector y was passed when a 1d array was expected. Please change the shape of y to (n_samples,), for example using ravel().\n",
      "  self.estimator_.fit(X, y, **fit_params)\n"
     ]
    }
   ],
   "source": [
    "# select features using the impotance derived from\n",
    "# random forests\n",
    "\n",
    "sel_ = SelectFromModel(RandomForestRegressor(n_estimators=400))\n",
    "sel_.fit(X_train, y_train)\n",
    "\n",
    "# remove features with zero coefficient from dataset\n",
    "# and parse again as dataframe (output of sklearn is\n",
    "# numpy array)\n",
    "X_train_rf = pd.DataFrame(sel_.transform(X_train))\n",
    "X_test_rf = pd.DataFrame(sel_.transform(X_test))\n",
    "\n",
    "# add the columns name\n",
    "X_train_rf.columns = X_train.columns[(sel_.get_support())]\n",
    "X_test_rf.columns = X_train.columns[(sel_.get_support())]"
   ]
  },
  {
   "cell_type": "code",
   "execution_count": 155,
   "metadata": {},
   "outputs": [
    {
     "data": {
      "text/plain": [
       "((1892, 4), (811, 4))"
      ]
     },
     "execution_count": 155,
     "metadata": {},
     "output_type": "execute_result"
    }
   ],
   "source": [
    "X_train_rf.shape, X_test_rf.shape"
   ]
  },
  {
   "cell_type": "code",
   "execution_count": 156,
   "metadata": {},
   "outputs": [
    {
     "data": {
      "text/plain": [
       "((1892, 23), (811, 23))"
      ]
     },
     "execution_count": 156,
     "metadata": {},
     "output_type": "execute_result"
    }
   ],
   "source": [
    "X_train.shape, X_test.shape\n"
   ]
  },
  {
   "cell_type": "markdown",
   "metadata": {},
   "source": [
    "### Fitting in machine learning algorithms"
   ]
  },
  {
   "cell_type": "code",
   "execution_count": 157,
   "metadata": {},
   "outputs": [],
   "source": [
    "# create a function to build random forests and compare performance in train and test set\n",
    "from sklearn.metrics import r2_score\n",
    "\n",
    "def run_randomForests(X_train, X_test, y_train, y_test):\n",
    "    rf = RandomForestRegressor(n_estimators=200, random_state=39, max_depth=4)\n",
    "    rf.fit(X_train, y_train)\n",
    "    print('Train set')\n",
    "    pred = rf.predict(X_train)\n",
    "    print('Random Forests R2: {}'.format(r2_score(y_train, pred)))\n",
    "    print('Test set')\n",
    "    pred = rf.predict(X_test)\n",
    "    print('Random Forests R2: {}'.format(r2_score(y_test, pred)))\n"
   ]
  },
  {
   "cell_type": "code",
   "execution_count": 158,
   "metadata": {},
   "outputs": [
    {
     "name": "stderr",
     "output_type": "stream",
     "text": [
      "/Users/audreytang/anaconda3/lib/python3.6/site-packages/ipykernel_launcher.py:6: DataConversionWarning: A column-vector y was passed when a 1d array was expected. Please change the shape of y to (n_samples,), for example using ravel().\n",
      "  \n"
     ]
    },
    {
     "name": "stdout",
     "output_type": "stream",
     "text": [
      "Train set\n",
      "Random Forests R2: 0.8121063316230883\n",
      "Test set\n",
      "Random Forests R2: 0.7400092258553744\n"
     ]
    }
   ],
   "source": [
    "run_randomForests(X_train,\n",
    "                  X_test,\n",
    "                  y_train, y_test)"
   ]
  },
  {
   "cell_type": "code",
   "execution_count": 159,
   "metadata": {},
   "outputs": [
    {
     "name": "stderr",
     "output_type": "stream",
     "text": [
      "/Users/audreytang/anaconda3/lib/python3.6/site-packages/ipykernel_launcher.py:6: DataConversionWarning: A column-vector y was passed when a 1d array was expected. Please change the shape of y to (n_samples,), for example using ravel().\n",
      "  \n"
     ]
    },
    {
     "name": "stdout",
     "output_type": "stream",
     "text": [
      "Train set\n",
      "Random Forests R2: 0.7836709910857722\n",
      "Test set\n",
      "Random Forests R2: 0.7296104215419384\n"
     ]
    }
   ],
   "source": [
    "run_randomForests(X_train_mse,\n",
    "                  X_test_mse,\n",
    "                  y_train, y_test)"
   ]
  },
  {
   "cell_type": "code",
   "execution_count": 160,
   "metadata": {},
   "outputs": [
    {
     "name": "stderr",
     "output_type": "stream",
     "text": [
      "/Users/audreytang/anaconda3/lib/python3.6/site-packages/ipykernel_launcher.py:6: DataConversionWarning: A column-vector y was passed when a 1d array was expected. Please change the shape of y to (n_samples,), for example using ravel().\n",
      "  \n"
     ]
    },
    {
     "name": "stdout",
     "output_type": "stream",
     "text": [
      "Train set\n",
      "Random Forests R2: 0.8113561646301417\n",
      "Test set\n",
      "Random Forests R2: 0.739686695735633\n"
     ]
    }
   ],
   "source": [
    "run_randomForests(X_train_lasso,\n",
    "                  X_test_lasso,\n",
    "                  y_train, y_test)"
   ]
  },
  {
   "cell_type": "code",
   "execution_count": 161,
   "metadata": {},
   "outputs": [
    {
     "name": "stderr",
     "output_type": "stream",
     "text": [
      "/Users/audreytang/anaconda3/lib/python3.6/site-packages/ipykernel_launcher.py:6: DataConversionWarning: A column-vector y was passed when a 1d array was expected. Please change the shape of y to (n_samples,), for example using ravel().\n",
      "  \n"
     ]
    },
    {
     "name": "stdout",
     "output_type": "stream",
     "text": [
      "Train set\n",
      "Random Forests R2: 0.8073779497112532\n",
      "Test set\n",
      "Random Forests R2: 0.7389421292617777\n"
     ]
    }
   ],
   "source": [
    "run_randomForests(X_train_rf,\n",
    "                  X_test_rf,\n",
    "                  y_train, y_test)"
   ]
  },
  {
   "cell_type": "code",
   "execution_count": 162,
   "metadata": {},
   "outputs": [],
   "source": [
    "# create a function to build linear regression and compare performance in train and test set\n",
    "\n",
    "def run_linear(X_train, X_test, y_train, y_test):\n",
    "    # function to train and test the performance of logistic regression\n",
    "    logit = LinearRegression()\n",
    "    logit.fit(X_train, y_train)\n",
    "    print('Train set')\n",
    "    pred = logit.predict(X_train)\n",
    "    print('Linear Regression R2: {}'.format(r2_score(y_train, pred)))\n",
    "    print('Test set')\n",
    "    pred = logit.predict(X_test)\n",
    "    print('Linear Regression R2: {}'.format(r2_score(y_test, pred)))\n",
    "    "
   ]
  },
  {
   "cell_type": "code",
   "execution_count": 163,
   "metadata": {},
   "outputs": [
    {
     "name": "stdout",
     "output_type": "stream",
     "text": [
      "Train set\n",
      "Linear Regression R2: 0.6682823372108286\n",
      "Test set\n",
      "Linear Regression R2: 0.6674402655508859\n"
     ]
    }
   ],
   "source": [
    "\n",
    "scaler = StandardScaler().fit(X_train)\n",
    "\n",
    "run_linear(scaler.transform(X_train),\n",
    "             scaler.transform(X_test),\n",
    "                  y_train, y_test)"
   ]
  },
  {
   "cell_type": "code",
   "execution_count": 164,
   "metadata": {},
   "outputs": [
    {
     "name": "stdout",
     "output_type": "stream",
     "text": [
      "Train set\n",
      "Linear Regression R2: 0.6666251260708561\n",
      "Test set\n",
      "Linear Regression R2: 0.6665748408606165\n"
     ]
    }
   ],
   "source": [
    "\n",
    "scaler = StandardScaler().fit(X_train_mse)\n",
    "\n",
    "run_linear(scaler.transform(X_train_mse),\n",
    "             scaler.transform(X_test_mse),\n",
    "                  y_train, y_test)"
   ]
  },
  {
   "cell_type": "code",
   "execution_count": 165,
   "metadata": {},
   "outputs": [
    {
     "name": "stdout",
     "output_type": "stream",
     "text": [
      "Train set\n",
      "Linear Regression R2: 0.668232806499857\n",
      "Test set\n",
      "Linear Regression R2: 0.6675969636542143\n"
     ]
    }
   ],
   "source": [
    "\n",
    "scaler = StandardScaler().fit(X_train_lasso)\n",
    "\n",
    "run_linear(scaler.transform(X_train_lasso),\n",
    "             scaler.transform(X_test_lasso),\n",
    "                  y_train, y_test)"
   ]
  },
  {
   "cell_type": "code",
   "execution_count": 166,
   "metadata": {},
   "outputs": [
    {
     "name": "stdout",
     "output_type": "stream",
     "text": [
      "Train set\n",
      "Linear Regression R2: 0.6602375459659903\n",
      "Test set\n",
      "Linear Regression R2: 0.672282410199771\n"
     ]
    }
   ],
   "source": [
    "\n",
    "scaler = StandardScaler().fit(X_train_rf)\n",
    "\n",
    "run_linear(scaler.transform(X_train_rf),\n",
    "             scaler.transform(X_test_rf),\n",
    "                  y_train, y_test)"
   ]
  },
  {
   "cell_type": "markdown",
   "metadata": {},
   "source": [
    "### Saving data"
   ]
  },
  {
   "cell_type": "code",
   "execution_count": 167,
   "metadata": {},
   "outputs": [],
   "source": [
    "X_train_mse.to_csv('X_train_lasso', index=False)\n",
    "X_test_mse.to_csv('X_test_lasso',index=False)"
   ]
  },
  {
   "cell_type": "code",
   "execution_count": null,
   "metadata": {},
   "outputs": [],
   "source": []
  }
 ],
 "metadata": {
  "kernelspec": {
   "display_name": "Python 3",
   "language": "python",
   "name": "python3"
  },
  "language_info": {
   "codemirror_mode": {
    "name": "ipython",
    "version": 3
   },
   "file_extension": ".py",
   "mimetype": "text/x-python",
   "name": "python",
   "nbconvert_exporter": "python",
   "pygments_lexer": "ipython3",
   "version": "3.6.4"
  }
 },
 "nbformat": 4,
 "nbformat_minor": 2
}
